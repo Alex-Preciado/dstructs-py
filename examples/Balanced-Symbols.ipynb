{
 "cells": [
  {
   "cell_type": "code",
   "execution_count": 1,
   "metadata": {},
   "outputs": [],
   "source": [
    "import sys, os\n",
    "sys.path.insert(0, os.path.abspath('../'))\n",
    "\n",
    "from dstructs.Stack import Stack"
   ]
  },
  {
   "cell_type": "code",
   "execution_count": 2,
   "metadata": {},
   "outputs": [],
   "source": [
    "def match_symbols(symbol_str):\n",
    "    symbol_pairs = {'(':')','[':']','{':'}'}\n",
    "    \n",
    "    openers = symbol_pairs.keys()\n",
    "    my_stack = Stack()\n",
    "    \n",
    "    i = 0\n",
    "    while i < len(symbol_str):\n",
    "        symbol = symbol_str[i]\n",
    "        \n",
    "        if symbol in openers:\n",
    "            my_stack.push(symbol)\n",
    "        else:\n",
    "            \n",
    "            if my_stack.is_empty():\n",
    "                return False\n",
    "            else:\n",
    "                top_item = my_stack.pop()\n",
    "                \n",
    "                if symbol != symbol_pairs[top_item]:\n",
    "                    return False\n",
    "        i += 1\n",
    "    \n",
    "    if my_stack.is_empty():\n",
    "        return True\n",
    "    \n",
    "    return False\n"
   ]
  },
  {
   "cell_type": "code",
   "execution_count": 3,
   "metadata": {},
   "outputs": [
    {
     "name": "stdout",
     "output_type": "stream",
     "text": [
      "True\n",
      "False\n"
     ]
    }
   ],
   "source": [
    "print(match_symbols('([{}])'))\n",
    "print(match_symbols('([{}})'))"
   ]
  },
  {
   "cell_type": "code",
   "execution_count": null,
   "metadata": {},
   "outputs": [],
   "source": []
  },
  {
   "cell_type": "code",
   "execution_count": null,
   "metadata": {},
   "outputs": [],
   "source": []
  }
 ],
 "metadata": {
  "kernelspec": {
   "display_name": "Python 3",
   "language": "python",
   "name": "python3"
  },
  "language_info": {
   "codemirror_mode": {
    "name": "ipython",
    "version": 3
   },
   "file_extension": ".py",
   "mimetype": "text/x-python",
   "name": "python",
   "nbconvert_exporter": "python",
   "pygments_lexer": "ipython3",
   "version": "3.6.8"
  }
 },
 "nbformat": 4,
 "nbformat_minor": 2
}
